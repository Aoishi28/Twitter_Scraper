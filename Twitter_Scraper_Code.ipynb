{
 "cells": [
  {
   "cell_type": "code",
   "execution_count": 1,
   "metadata": {},
   "outputs": [],
   "source": [
    "#Importing the modules\n",
    "\n",
    "from selenium import webdriver\n",
    "import pandas as pd\n",
    "import time\n"
   ]
  },
  {
   "cell_type": "code",
   "execution_count": 2,
   "metadata": {
    "scrolled": true
   },
   "outputs": [
    {
     "name": "stdout",
     "output_type": "stream",
     "text": [
      "['#LieLikeModi', '#HBDRamCharan', '#INDvENG', '#askpcj', '#Feku']\n",
      "['https://twitter.com/search?q=%23LieLikeModi&src=trend_click&vertical=trends', 'https://twitter.com/search?q=%23HBDRamCharan&src=trend_click&vertical=trends', 'https://twitter.com/search?q=%23INDvENG&src=trend_click&vertical=trends', 'https://twitter.com/search?q=%23askpcj&src=trend_click&vertical=trends', 'https://twitter.com/search?q=%23Feku&src=trend_click&vertical=trends']\n"
     ]
    }
   ],
   "source": [
    "chrome_browser = webdriver.Chrome(r'C:\\Users\\Suprakash\\Anaconda3\\chromedriver') #Provide the path of your chromedriver\n",
    "chrome_browser.get(\"https://twitter.com/explore/tabs/trending\")\n",
    "time.sleep(15) #To let the page load\n",
    "\n",
    "data=chrome_browser.find_elements_by_tag_name('span')\n",
    "tweets=[]\n",
    "for i in data:\n",
    "    tweet=i.get_attribute('textContent')\n",
    "    if(tweet.startswith('#')): #Since the trending hashtags start with # we use this symbol to check if its a tweet or not\n",
    "        if tweet not in tweets:\n",
    "            tweets.append(tweet)\n",
    "        \n",
    "search_url=[]\n",
    "for i in tweets:\n",
    "    i=i.strip('#') #Since the url don't have # so we remove that before appending to url\n",
    "    search_url.append(\"https://twitter.com/search?q=%23\"+i+\"&src=trend_click&vertical=trends\") #All the links are in this format\n",
    "    \n",
    "print(tweets)\n",
    "print(search_url)"
   ]
  },
  {
   "cell_type": "code",
   "execution_count": 3,
   "metadata": {},
   "outputs": [],
   "source": [
    "df = pd.DataFrame(list(zip(tweets, search_url)),columns =['Hashtags', 'Links'])\n",
    "df.to_csv(r'C:\\Users\\Suprakash\\Documents\\Trending_Tweets.csv',index=False)"
   ]
  },
  {
   "cell_type": "code",
   "execution_count": null,
   "metadata": {},
   "outputs": [],
   "source": []
  },
  {
   "cell_type": "code",
   "execution_count": null,
   "metadata": {},
   "outputs": [],
   "source": []
  },
  {
   "cell_type": "code",
   "execution_count": null,
   "metadata": {},
   "outputs": [],
   "source": []
  },
  {
   "cell_type": "code",
   "execution_count": null,
   "metadata": {},
   "outputs": [],
   "source": []
  }
 ],
 "metadata": {
  "kernelspec": {
   "display_name": "Python 3",
   "language": "python",
   "name": "python3"
  },
  "language_info": {
   "codemirror_mode": {
    "name": "ipython",
    "version": 3
   },
   "file_extension": ".py",
   "mimetype": "text/x-python",
   "name": "python",
   "nbconvert_exporter": "python",
   "pygments_lexer": "ipython3",
   "version": "3.7.4"
  }
 },
 "nbformat": 4,
 "nbformat_minor": 2
}
